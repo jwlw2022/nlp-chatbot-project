{
  "nbformat": 4,
  "nbformat_minor": 0,
  "metadata": {
    "accelerator": "GPU",
    "colab": {
      "name": "6864_NLP_Chatbot_Project.ipynb",
      "provenance": [],
      "collapsed_sections": [],
      "machine_shape": "hm",
      "include_colab_link": true
    },
    "kernelspec": {
      "display_name": "Python 3",
      "name": "python3"
    },
    "language_info": {
      "name": "python"
    }
  },
  "cells": [
    {
      "cell_type": "markdown",
      "metadata": {
        "id": "view-in-github",
        "colab_type": "text"
      },
      "source": [
        "<a href=\"https://colab.research.google.com/github/jwlw2022/nlp-chatbot-project/blob/main/6864_NLP_Chatbot_Project.ipynb\" target=\"_parent\"><img src=\"https://colab.research.google.com/assets/colab-badge.svg\" alt=\"Open In Colab\"/></a>"
      ]
    },
    {
      "cell_type": "markdown",
      "metadata": {
        "id": "EKujomfNfXLN"
      },
      "source": [
        "# Installations"
      ]
    },
    {
      "cell_type": "code",
      "metadata": {
        "colab": {
          "base_uri": "https://localhost:8080/"
        },
        "id": "prUa1Udrb3Vi",
        "outputId": "11bd7a16-91d6-4009-c309-dc18d8fc01e0"
      },
      "source": [
        "# %%bash\n",
        "# Logistics #2: install the transformers package, create a folder, download the dataset and a patch\n",
        "!pip install pytorch-pretrained-bert\n",
        "!pip -q install transformers\n",
        "!pip -q install datasets\n",
        "!pip -q install tqdm\n",
        "!pip -q install sentencepiece "
      ],
      "execution_count": null,
      "outputs": [
        {
          "output_type": "stream",
          "text": [
            "Requirement already satisfied: pytorch-pretrained-bert in /usr/local/lib/python3.7/dist-packages (0.6.2)\n",
            "Requirement already satisfied: numpy in /usr/local/lib/python3.7/dist-packages (from pytorch-pretrained-bert) (1.19.5)\n",
            "Requirement already satisfied: boto3 in /usr/local/lib/python3.7/dist-packages (from pytorch-pretrained-bert) (1.17.69)\n",
            "Requirement already satisfied: regex in /usr/local/lib/python3.7/dist-packages (from pytorch-pretrained-bert) (2019.12.20)\n",
            "Requirement already satisfied: tqdm in /usr/local/lib/python3.7/dist-packages (from pytorch-pretrained-bert) (4.41.1)\n",
            "Requirement already satisfied: torch>=0.4.1 in /usr/local/lib/python3.7/dist-packages (from pytorch-pretrained-bert) (1.8.1+cu101)\n",
            "Requirement already satisfied: requests in /usr/local/lib/python3.7/dist-packages (from pytorch-pretrained-bert) (2.23.0)\n",
            "Requirement already satisfied: botocore<1.21.0,>=1.20.69 in /usr/local/lib/python3.7/dist-packages (from boto3->pytorch-pretrained-bert) (1.20.69)\n",
            "Requirement already satisfied: jmespath<1.0.0,>=0.7.1 in /usr/local/lib/python3.7/dist-packages (from boto3->pytorch-pretrained-bert) (0.10.0)\n",
            "Requirement already satisfied: s3transfer<0.5.0,>=0.4.0 in /usr/local/lib/python3.7/dist-packages (from boto3->pytorch-pretrained-bert) (0.4.2)\n",
            "Requirement already satisfied: typing-extensions in /usr/local/lib/python3.7/dist-packages (from torch>=0.4.1->pytorch-pretrained-bert) (3.7.4.3)\n",
            "Requirement already satisfied: chardet<4,>=3.0.2 in /usr/local/lib/python3.7/dist-packages (from requests->pytorch-pretrained-bert) (3.0.4)\n",
            "Requirement already satisfied: certifi>=2017.4.17 in /usr/local/lib/python3.7/dist-packages (from requests->pytorch-pretrained-bert) (2020.12.5)\n",
            "Requirement already satisfied: urllib3!=1.25.0,!=1.25.1,<1.26,>=1.21.1 in /usr/local/lib/python3.7/dist-packages (from requests->pytorch-pretrained-bert) (1.24.3)\n",
            "Requirement already satisfied: idna<3,>=2.5 in /usr/local/lib/python3.7/dist-packages (from requests->pytorch-pretrained-bert) (2.10)\n",
            "Requirement already satisfied: python-dateutil<3.0.0,>=2.1 in /usr/local/lib/python3.7/dist-packages (from botocore<1.21.0,>=1.20.69->boto3->pytorch-pretrained-bert) (2.8.1)\n",
            "Requirement already satisfied: six>=1.5 in /usr/local/lib/python3.7/dist-packages (from python-dateutil<3.0.0,>=2.1->botocore<1.21.0,>=1.20.69->boto3->pytorch-pretrained-bert) (1.15.0)\n"
          ],
          "name": "stdout"
        }
      ]
    },
    {
      "cell_type": "markdown",
      "metadata": {
        "id": "FXbQMJ1ZfdOh"
      },
      "source": [
        "# Pretrained tokenizer"
      ]
    },
    {
      "cell_type": "code",
      "metadata": {
        "id": "mXVSBuG_eWBW"
      },
      "source": [
        "# import transformers\n",
        "\n",
        "# Use a pretrained tokenizer with CLASS.from_pretrained() function\n",
        "# tokenizer = transformers.AutoTokenizer.from_pretrained('distilbert-base-cased')"
      ],
      "execution_count": null,
      "outputs": []
    },
    {
      "cell_type": "markdown",
      "metadata": {
        "id": "7BAhfXsifgTN"
      },
      "source": [
        "# Download PersonaChat dataset\n"
      ]
    },
    {
      "cell_type": "code",
      "metadata": {
        "id": "YxHQxGgYZWM8"
      },
      "source": [
        "import json\n",
        "from pytorch_pretrained_bert import cached_path\n",
        "\n",
        "url = \"https://s3.amazonaws.com/datasets.huggingface.co/personachat/personachat_self_original.json\"\n",
        "\n",
        "# Download and load JSON dataset\n",
        "personachat_file = cached_path(url)\n",
        "with open(personachat_file, \"r\", encoding=\"utf-8\") as f:\n",
        "    dataset = json.loads(f.read())"
      ],
      "execution_count": null,
      "outputs": []
    },
    {
      "cell_type": "code",
      "metadata": {
        "id": "AEfiMNY-0oat"
      },
      "source": [
        "for i in range(5):\n",
        "    print('Dialogue ', i)\n",
        "    # print('Persona: ')\n",
        "    # for persona in dataset['train'][i]['personality']:\n",
        "    #     print(persona)\n",
        "    print('Utterances: ')\n",
        "    for dialogue in dataset['train'][i]['utterances']:\n",
        "        print(dialogue['history'][-1])"
      ],
      "execution_count": null,
      "outputs": []
    },
    {
      "cell_type": "code",
      "metadata": {
        "colab": {
          "base_uri": "https://localhost:8080/"
        },
        "id": "rhdDvpg3-FcI",
        "outputId": "722737b3-1b75-45f7-f611-79cc220a812d"
      },
      "source": [
        "def tokenize(dataset):\n",
        "    train_tokens = []\n",
        "    for i in range(len(dataset['train'])):  # dialogues\n",
        "        for dialogue in dataset['train'][i]['utterances']:\n",
        "            tokens = dialogue['history'][-1].split(' ')\n",
        "            train_tokens.append(tokens)\n",
        "    \n",
        "    valid_tokens = []\n",
        "    for i in range(len(dataset['valid'])):  # dialogues\n",
        "        for dialogue in dataset['valid'][i]['utterances']:\n",
        "            tokens = dialogue['history'][-1].split(' ')\n",
        "            valid_tokens.append(tokens)\n",
        "\n",
        "    train_source = []\n",
        "    train_target = []\n",
        "    for i in range(len(train_tokens)-2):\n",
        "        copy = train_tokens[i].copy()\n",
        "        copy.extend(['|'])\n",
        "        copy.extend(train_tokens[i+1])\n",
        "        train_source.append(copy)\n",
        "        train_target.append(train_tokens[i+2])\n",
        "\n",
        "    valid_source = []\n",
        "    valid_target = []\n",
        "    for i in range(len(valid_tokens)-2):\n",
        "        copy = valid_tokens[i].copy()\n",
        "        copy.extend(['|'])\n",
        "        copy.extend(valid_tokens[i+1])\n",
        "        valid_source.append(copy)\n",
        "        valid_target.append(valid_tokens[i+2])\n",
        "\n",
        "    return train_source, train_target, valid_source, valid_target\n",
        "\n",
        "print(len(dataset['train']))\n",
        "train_source, train_target, valid_source, valid_target = tokenize(dataset)\n",
        "print(train_source[0])\n",
        "print(len(train_source))\n",
        "print(len(train_target))\n",
        "print(len(valid_source))\n",
        "print(len(valid_target))\n",
        "# print(train_target)\n",
        "# print(valid_source)\n",
        "# print(valid_target)"
      ],
      "execution_count": null,
      "outputs": [
        {
          "output_type": "stream",
          "text": [
            "17878\n",
            "['hi', ',', 'how', 'are', 'you', 'doing', '?', \"i'm\", 'getting', 'ready', 'to', 'do', 'some', 'cheetah', 'chasing', 'to', 'stay', 'in', 'shape', '.', '|', 'i', 'am', '!', 'for', 'my', 'hobby', 'i', 'like', 'to', 'do', 'canning', 'or', 'some', 'whittling', '.']\n",
            "131436\n",
            "131436\n",
            "7799\n",
            "7799\n"
          ],
          "name": "stdout"
        }
      ]
    },
    {
      "cell_type": "code",
      "metadata": {
        "colab": {
          "base_uri": "https://localhost:8080/"
        },
        "id": "E7IfNMtlEYQ7",
        "outputId": "89d2d99c-30b0-4c80-a55d-b9e0dff94e16"
      },
      "source": [
        "# a = max(list(map(len, train_source)))\n",
        "# print(a)\n",
        "\n",
        "a = max([len(x) for x in train_source])\n",
        "print(a)"
      ],
      "execution_count": null,
      "outputs": [
        {
          "output_type": "stream",
          "text": [
            "118\n"
          ],
          "name": "stdout"
        }
      ]
    },
    {
      "cell_type": "code",
      "metadata": {
        "id": "NkLOulsuge-2"
      },
      "source": [
        "import torch\n",
        "import torch.nn as nn\n",
        "from torch.nn import init\n",
        "import torch.optim as optim"
      ],
      "execution_count": null,
      "outputs": []
    },
    {
      "cell_type": "markdown",
      "metadata": {
        "id": "T6fgzQE6hA8p"
      },
      "source": [
        "# Seq2Seq Code"
      ]
    },
    {
      "cell_type": "markdown",
      "metadata": {
        "id": "TvKACvyBRH2q"
      },
      "source": [
        "## Download Dataset"
      ]
    },
    {
      "cell_type": "code",
      "metadata": {
        "id": "SBa2QRPi7AIu",
        "colab": {
          "base_uri": "https://localhost:8080/"
        },
        "outputId": "4561ebfc-8ab9-4b9a-c7cf-ee76ff2b2196"
      },
      "source": [
        "from google.colab import drive \n",
        "drive.mount(\"/content/drive\")\n",
        "\n",
        "MODEL_FOLDER = \"/content/drive/My Drive/mit-6864/hw3\"\n",
        "!mkdir -p \"/content/drive/My Drive/mit-6864/hw3\""
      ],
      "execution_count": null,
      "outputs": [
        {
          "output_type": "stream",
          "text": [
            "Mounted at /content/drive\n"
          ],
          "name": "stdout"
        }
      ]
    },
    {
      "cell_type": "code",
      "metadata": {
        "colab": {
          "base_uri": "https://localhost:8080/"
        },
        "id": "HzzPi7ouR9rJ",
        "outputId": "e71d8180-19cb-4936-9f2e-4a64c30b0052"
      },
      "source": [
        "%%bash\n",
        "git clone https://github.com/mit-6864/hw3.git\n",
        "mkdir -p /content/hw3/data\n",
        "\n",
        "pip install sacrebleu"
      ],
      "execution_count": null,
      "outputs": [
        {
          "output_type": "stream",
          "text": [
            "Collecting sacrebleu\n",
            "  Using cached https://files.pythonhosted.org/packages/7e/57/0c7ca4e31a126189dab99c19951910bd081dea5bbd25f24b77107750eae7/sacrebleu-1.5.1-py3-none-any.whl\n",
            "Collecting portalocker==2.0.0\n",
            "  Using cached https://files.pythonhosted.org/packages/89/a6/3814b7107e0788040870e8825eebf214d72166adf656ba7d4bf14759a06a/portalocker-2.0.0-py2.py3-none-any.whl\n",
            "Installing collected packages: portalocker, sacrebleu\n",
            "Successfully installed portalocker-2.0.0 sacrebleu-1.5.1\n"
          ],
          "name": "stdout"
        },
        {
          "output_type": "stream",
          "text": [
            "fatal: destination path 'hw3' already exists and is not an empty directory.\n"
          ],
          "name": "stderr"
        }
      ]
    },
    {
      "cell_type": "code",
      "metadata": {
        "id": "suepLPcGR27_",
        "colab": {
          "base_uri": "https://localhost:8080/"
        },
        "outputId": "029329f3-ab9b-4d2e-b6d4-9b9ab2b00cf2"
      },
      "source": [
        "# Download data\n",
        "DATA_DIR = \"/content/hw3/data\"\n",
        "\n",
        "# !wget -nv -O \"$DATA_DIR/train.en\" https://nlp.stanford.edu/projects/nmt/data/iwslt15.en-vi/train.en\n",
        "# !wget -nv -O \"$DATA_DIR/train.vi\" https://nlp.stanford.edu/projects/nmt/data/iwslt15.en-vi/train.vi\n",
        "!wget -nv -O \"$DATA_DIR/vocab.en\" https://nlp.stanford.edu/projects/nmt/data/iwslt15.en-vi/vocab.en\n",
        "# !wget -nv -O \"$DATA_DIR/vocab.vi\" https://nlp.stanford.edu/projects/nmt/data/iwslt15.en-vi/vocab.vi"
      ],
      "execution_count": null,
      "outputs": [
        {
          "output_type": "stream",
          "text": [
            "2021-05-08 00:56:31 URL:https://nlp.stanford.edu/projects/nmt/data/iwslt15.en-vi/vocab.en [139741/139741] -> \"/content/hw3/data/vocab.en\" [1]\n"
          ],
          "name": "stdout"
        }
      ]
    },
    {
      "cell_type": "code",
      "metadata": {
        "colab": {
          "base_uri": "https://localhost:8080/"
        },
        "id": "qsGbOGWTs3sB",
        "outputId": "daa12a5d-9b82-436a-9c53-7f1bc9416a8f"
      },
      "source": [
        "words = set()\n",
        "for sentence in train_source:\n",
        "  words.update(sentence)\n",
        "for sentence in train_target:\n",
        "  words.update(sentence)\n",
        "for sentence in valid_source:\n",
        "  words.update(sentence)\n",
        "for sentence in valid_target:\n",
        "  words.update(sentence)\n",
        "print(len(words))\n",
        "with open('/content/hw3/data/vocab.txt', 'w') as writefile:\n",
        "    writefile.write('\\n'.join(words))"
      ],
      "execution_count": null,
      "outputs": [
        {
          "output_type": "stream",
          "text": [
            "18597\n"
          ],
          "name": "stdout"
        }
      ]
    },
    {
      "cell_type": "code",
      "metadata": {
        "id": "bFWyGs6kRxD7",
        "colab": {
          "base_uri": "https://localhost:8080/",
          "height": 472
        },
        "outputId": "db45e45d-c763-404d-b19a-078a8bc7243a"
      },
      "source": [
        "import sys\n",
        "sys.path.append(\"/content/hw3\")\n",
        "\n",
        "import lab_utils\n",
        "\n",
        "import torch \n",
        "# !pip install torch==1.6.0 torchvision==0.7.0\n",
        "import numpy as np\n",
        "\n",
        "device = \"cuda\" if torch.cuda.is_available() else \"cpu\"\n",
        "assert device == \"cuda\"   # use gpu whenever you can!\n",
        "\n",
        "seed = 42\n",
        "np.random.seed(seed)\n",
        "torch.manual_seed(seed)\n",
        "torch.cuda.manual_seed(seed)\n",
        "from lab_utils import read_vocab_file, read_sentence_file, filter_data, show_some_data_stats\n",
        "\n",
        "# src_vocab_set = read_vocab_file(\"vocab.vi\")\n",
        "trg_vocab_set = read_vocab_file(\"vocab.en\")\n",
        "trg_vocab_set = list(words)\n",
        "src_vocab_set = trg_vocab_set\n",
        "\n",
        "train_src_sentences_list = train_source\n",
        "train_trg_sentences_list = train_target\n",
        "assert len(train_src_sentences_list) == len(train_trg_sentences_list)\n",
        "\n",
        "# test_src_sentences_list = read_sentence_file(\"tst2013.vi\")\n",
        "# test_trg_sentences_list = read_sentence_file(\"tst2013.en\")\n",
        "test_src_sentences_list = valid_source\n",
        "test_trg_sentences_list = valid_target\n",
        "assert len(test_src_sentences_list) == len(test_trg_sentences_list)\n",
        "\n",
        "# Filter out sentences over 48 words long\n",
        "MAX_SENT_LENGTH = 45\n",
        "MAX_SENT_LENGTH_PLUS_SOS_EOS = 46\n",
        "\n",
        "train_src_sentences_list, train_trg_sentences_list = filter_data(\n",
        "    train_src_sentences_list, train_trg_sentences_list, MAX_SENT_LENGTH)\n",
        "test_src_sentences_list, test_trg_sentences_list = filter_data(\n",
        "    test_src_sentences_list, test_trg_sentences_list, MAX_SENT_LENGTH)\n",
        "\n",
        "# We take 10% of training data as validation set.\n",
        "num_val = int(len(train_src_sentences_list) * 0.1)\n",
        "val_src_sentences_list = train_src_sentences_list[:num_val]\n",
        "val_trg_sentences_list = train_trg_sentences_list[:num_val]\n",
        "train_src_sentences_list = train_src_sentences_list[num_val:]\n",
        "train_trg_sentences_list = train_trg_sentences_list[num_val:]\n",
        "\n",
        "show_some_data_stats(train_src_sentences_list, val_src_sentences_list, \n",
        "                     test_src_sentences_list, train_trg_sentences_list,\n",
        "                     src_vocab_set, trg_vocab_set)"
      ],
      "execution_count": null,
      "outputs": [
        {
          "output_type": "stream",
          "text": [
            "Number of training (src, trg) sentence pairs: 118280\n",
            "Number of validation (src, trg) sentence pairs: 13142\n",
            "Number of testing (src, trg) sentence pairs: 7799\n",
            "Size of en vocab set (including '<pad>', '<unk>', '<s>', '</s>'): 18598\n",
            "Size of vi vocab set (including '<pad>', '<unk>', '<s>', '</s>'): 18598\n",
            "Training sentence avg. length: 22 \n",
            "Training sentence length at 95-percentile: 34\n",
            "Training sentence length distribution (x-axis is length range and y-axis is count):\n",
            "\n"
          ],
          "name": "stdout"
        },
        {
          "output_type": "display_data",
          "data": {
            "image/png": "[encoded data removed]",
            "text/plain": [
              "<Figure size 432x288 with 1 Axes>"
            ]
          },
          "metadata": {
            "tags": [],
            "needs_background": "light"
          }
        },
        {
          "output_type": "stream",
          "text": [
            "Example Vietnamese input: ['that', 'is', 'great', '.', 'keep', 'up', 'with', 'news', 'plus', 'stay', 'in', 'shape', '|', 'hi', '.', 'sorry', 'in', 'advance', 'my', 'english', 'is', 'not', 'that', 'great', '.']\n",
            "Its target English output: [\"i'm\", 'okay', '.', 'i', 'just', 'took', 'my', 'dog', 'for', 'a', 'walk', '.', 'you', '?']\n"
          ],
          "name": "stdout"
        }
      ]
    },
    {
      "cell_type": "code",
      "metadata": {
        "id": "MDcyruI0UcXe"
      },
      "source": [
        "import torch\n",
        "from torch.utils import data\n",
        "\n",
        "# These IDs are reserved.\n",
        "PAD_INDEX = 0\n",
        "UNK_INDEX = 1\n",
        "SOS_INDEX = 2\n",
        "EOS_INDEX = 3\n",
        "\n",
        "\n",
        "class MTDataset(data.Dataset):\n",
        "  def __init__(self, src_sentences, src_vocabs, trg_sentences, trg_vocabs,\n",
        "               sampling=1.):\n",
        "    self.src_sentences = src_sentences[:int(len(src_sentences) * sampling)]\n",
        "    self.trg_sentences = trg_sentences[:int(len(src_sentences) * sampling)]\n",
        "\n",
        "    self.max_src_seq_length = MAX_SENT_LENGTH_PLUS_SOS_EOS\n",
        "    self.max_trg_seq_length = MAX_SENT_LENGTH_PLUS_SOS_EOS\n",
        "\n",
        "    self.src_vocabs = src_vocabs\n",
        "    self.trg_vocabs = trg_vocabs\n",
        "\n",
        "    self.src_v2id = {v : i for i, v in enumerate(src_vocabs)}\n",
        "    self.src_id2v = {val : key for key, val in self.src_v2id.items()}\n",
        "    self.trg_v2id = {v : i for i, v in enumerate(trg_vocabs)}\n",
        "    self.trg_id2v = {val : key for key, val in self.trg_v2id.items()}\n",
        "\n",
        "  def __len__(self):\n",
        "    return len(self.src_sentences)\n",
        "\n",
        "  def __getitem__(self, index):\n",
        "    src_sent = self.src_sentences[index]\n",
        "    src_len = len(src_sent) + 1\n",
        "    src_id = []\n",
        "    for w in src_sent:\n",
        "      if w == '|':\n",
        "        # src_id.append(EOS_INDEX)\n",
        "        # src_id.append(SOS_INDEX)\n",
        "        pass\n",
        "      else:\n",
        "        if w not in self.src_vocabs:\n",
        "          w = '<unk>'\n",
        "        src_id.append(self.src_v2id[w])\n",
        "    src_id = ([SOS_INDEX] + src_id + [EOS_INDEX] + [PAD_INDEX] *\n",
        "               (self.max_src_seq_length - src_len))\n",
        "    #src_id = (src_id + [PAD_INDEX] * (self.max_src_seq_length - src_len))\n",
        "\n",
        "    trg_sent = self.trg_sentences[index]\n",
        "    trg_len = len(trg_sent) + 2\n",
        "    trg_id = []\n",
        "    for w in trg_sent:\n",
        "      if w not in self.trg_vocabs:\n",
        "        w = '<unk>'\n",
        "      trg_id.append(self.trg_v2id[w])\n",
        "    trg_id = ([SOS_INDEX] + trg_id + [EOS_INDEX] + [PAD_INDEX] *\n",
        "               (self.max_trg_seq_length - trg_len))\n",
        "    #trg_id = (trg_id + [PAD_INDEX] * (self.max_trg_seq_length - trg_len))\n",
        "\n",
        "    return torch.tensor(src_id), src_len, torch.tensor(trg_id), trg_len"
      ],
      "execution_count": null,
      "outputs": []
    },
    {
      "cell_type": "markdown",
      "metadata": {
        "id": "j1p99-z4UeJH"
      },
      "source": [
        "## Encoder"
      ]
    },
    {
      "cell_type": "code",
      "metadata": {
        "id": "_xuHHZDDhCD9"
      },
      "source": [
        "import torch.nn as nn\n",
        "import torch.nn.functional as F\n",
        "from torch.nn.utils.rnn import pack_padded_sequence, pad_packed_sequence\n",
        "\n",
        "\n",
        "class Encoder(nn.Module):\n",
        "  def __init__(self, input_size, hidden_size, dropout=0.):\n",
        "    \"\"\"\n",
        "    Inputs: \n",
        "      - `input_size`: an int representing the RNN input size.\n",
        "      - `hidden_size`: an int representing the RNN hidden size.\n",
        "      - `dropout`: a float representing the dropout rate during training. Note\n",
        "          that for 1-layer RNN this has no effect since dropout only applies to\n",
        "          outputs of intermediate layers.\n",
        "    \"\"\"\n",
        "    \n",
        "    super(Encoder, self).__init__()\n",
        "\n",
        "    # --------- Your code here --------- #\n",
        "    # feel free to use a pre-implemented pytorch GRU\n",
        "    # https://pytorch.org/docs/stable/generated/torch.nn.GRU.html\n",
        "\n",
        "    self.rnn = nn.GRU(input_size=input_size,\n",
        "                      hidden_size=hidden_size,\n",
        "                      num_layers=3,\n",
        "                      batch_first=True,\n",
        "                      dropout=dropout)\n",
        "    \n",
        "    # --------- Your code ends --------- #\n",
        "\n",
        "  def forward(self, inputs, lengths):\n",
        "    \"\"\"\n",
        "    Inputs:\n",
        "      - `inputs`: a 3d-tensor of shape (batch_size, max_seq_length, embed_size)\n",
        "          representing a batch of padded embedded word vectors of source\n",
        "          sentences.\n",
        "      - `lengths`: a 1d-tensor of shape (batch_size,) representing the sequence\n",
        "          lengths of `inputs`.\n",
        "\n",
        "    Returns:\n",
        "      - `outputs`: a 3d-tensor of shape\n",
        "        (batch_size, max_seq_length, hidden_size).\n",
        "      - `finals`: a 3d-tensor of shape (num_layers, batch_size, hidden_size).\n",
        "\n",
        "      Hint: `outputs` and `finals` are both standard GRU outputs.\n",
        "    \"\"\"\n",
        "    outputs = None\n",
        "    finals = None\n",
        "    \n",
        "    # --------- Your code here --------- #\n",
        "    # hint: you probably want to pack the inputs and outputs (see note below)\n",
        "    #       https://pytorch.org/docs/stable/generated/torch.nn.utils.rnn.pack_padded_sequence.html\n",
        "    # hint2: given the shape of the inputs and outputs, \n",
        "    #        it might be helpful to specify batch_first=True (also in __init___)\n",
        "    # hint3: MAX_SENT_LENGTH_PLUS_SOS_EOS is a global variable that exists if \n",
        "    #        you ever need to specify a total_length for outputs\n",
        "\n",
        "    packed_sequence = pack_padded_sequence(inputs,\n",
        "                                           lengths.cpu(),\n",
        "                                           batch_first=True,\n",
        "                                           enforce_sorted=False)\n",
        "    outputs, finals = self.rnn(packed_sequence)\n",
        "    outputs, _ = pad_packed_sequence(outputs, batch_first=True)\n",
        "    \n",
        "    # --------- Your code ends --------- #\n",
        "\n",
        "    return outputs, finals"
      ],
      "execution_count": null,
      "outputs": []
    },
    {
      "cell_type": "markdown",
      "metadata": {
        "id": "nOGgHO0HRSiW"
      },
      "source": [
        "## Decoder"
      ]
    },
    {
      "cell_type": "code",
      "metadata": {
        "id": "SCzMw3ghhKcw"
      },
      "source": [
        "class Decoder(nn.Module):\n",
        "  \"\"\"An RNN decoder without attention.\"\"\"\n",
        "\n",
        "  def __init__(self, input_size, hidden_size, dropout=0.):\n",
        "    \"\"\"\n",
        "      Inputs:\n",
        "        - `input_size`, `hidden_size`, and `dropout` the same as in Encoder.\n",
        "    \"\"\"\n",
        "    super(Decoder, self).__init__()\n",
        "\n",
        "    # --------- Your code here --------- #\n",
        "    # hint: you need more layers than the encoder\n",
        "    #       again, feel free to use pytorch implemetnations\n",
        "    #       https://pytorch.org/docs/stable/generated/torch.nn.GRU.html\n",
        "    \n",
        "    # To initialize from the final encoder state.\n",
        "\n",
        "    self.rnn = nn.GRU(input_size=input_size,\n",
        "                      hidden_size=hidden_size,\n",
        "                      num_layers=3,\n",
        "                      batch_first=True,\n",
        "                      dropout=dropout)\n",
        "\n",
        "    self.bridge = nn.Linear(hidden_size, input_size, bias=True)\n",
        "\n",
        "    # --------- Your code ends --------- #\n",
        "\n",
        "  def forward_step(self, prev_embed, hidden):\n",
        "    \"\"\"Helper function for forward below:\n",
        "       Perform a single decoder step (1 word).\n",
        "\n",
        "       Inputs:\n",
        "      - `prev_embed`: a 3d-tensor of shape (batch_size, 1, embed_size)\n",
        "          representing the padded embedded word vectors at this step in training\n",
        "      - `hidden`: a 3d-tensor of shape (1, batch_size, hidden_size) representing\n",
        "          the current hidden state.\n",
        "\n",
        "      Returns:\n",
        "      - `hidden`: a 3d-tensor of shape (1, batch_size, hidden_size)\n",
        "          representing the current decoder hidden state.\n",
        "      - `pre_output`: a 3d-tensor of shape (batch_size, 1, hidden_size)\n",
        "          representing the total decoder output for one step\n",
        "    \"\"\"\n",
        "    pre_output = None\n",
        "    # --------- Your code here --------- #\n",
        "    \n",
        "    pre_output, hidden = self.rnn(prev_embed, hidden)\n",
        "\n",
        "    # --------- Your code ends --------- #\n",
        "    return hidden, pre_output\n",
        "\n",
        "  def forward(self, inputs, encoder_finals, hidden=None, max_len=None):\n",
        "    \"\"\"Unroll the decoder one step at a time.\n",
        "\n",
        "    Inputs:\n",
        "      - `inputs`: a 3d-tensor of shape (batch_size, max_seq_length, embed_size)\n",
        "          representing a batch of padded embedded word vectors of target\n",
        "          sentences (for teacher-forcing during training).\n",
        "      - `encoder_finals`: a 3d-tensor of shape\n",
        "          (num_enc_layers, batch_size, hidden_size) representing the final\n",
        "          encoder hidden states used to initialize the initial decoder hidden\n",
        "          states.\n",
        "      - `hidden`: a 3d-tensor of shape (1, batch_size, hidden_size) representing\n",
        "          the value to be used to initialize the initial decoder hidden states.\n",
        "          If None, then use `encoder_finals`.\n",
        "      - `max_len`: an int representing the maximum decoding length.\n",
        "\n",
        "    Returns:\n",
        "      - `outputs`: a 3d-tensor of shape\n",
        "          (batch_size, max_seq_length, hidden_size) representing the raw\n",
        "          decoder outputs (before converting to a `trg_vocab_size`-dim vector).\n",
        "          We will convert it later in a `Generator` below.\n",
        "      - `hidden`: a 3d-tensor of shape (1, batch_size, hidden_size)\n",
        "          representing the last decoder hidden state.\n",
        "    \"\"\"\n",
        "\n",
        "    # The maximum number of steps to unroll the RNN.\n",
        "    if max_len is None:\n",
        "      max_len = inputs.size(1)\n",
        "\n",
        "    # Initialize decoder hidden state.\n",
        "    if hidden is None:\n",
        "      hidden = self.init_hidden(encoder_finals)\n",
        "\n",
        "    outputs = []\n",
        "    \n",
        "    # --------- Your code here --------- #\n",
        "\n",
        "    # Unroll the decoder RNN for `max_len` steps.\n",
        "    # hint: use the above helper function forward_step that \n",
        "    #       performs a single decoder step (1 word).\n",
        "\n",
        "    for i in range(max_len):\n",
        "        prev_embed = inputs[:, i:i+1, :] # get embeddings from inputs\n",
        "        hidden, pre_output = self.forward_step(prev_embed, hidden)\n",
        "        outputs.append(pre_output)\n",
        "    \n",
        "    # final output concatenates outputs for each word\n",
        "    outputs = torch.cat(outputs, dim=1)\n",
        "\n",
        "    # --------- Your code ends --------- #\n",
        "\n",
        "    return hidden, outputs\n",
        "\n",
        "  def init_hidden(self, encoder_finals):\n",
        "    \"\"\"Use encoder final hidden state to initialize decoder's first hidden\n",
        "    state.\"\"\"\n",
        "    decoder_init_hiddens = torch.tanh(self.bridge(encoder_finals))\n",
        "\n",
        "    return decoder_init_hiddens"
      ],
      "execution_count": null,
      "outputs": []
    },
    {
      "cell_type": "markdown",
      "metadata": {
        "id": "O_g_Mh7mRULr"
      },
      "source": [
        "## EncoderDecoder"
      ]
    },
    {
      "cell_type": "code",
      "metadata": {
        "id": "HtN_OJxAhLVH"
      },
      "source": [
        "class EncoderDecoder(nn.Module):\n",
        "  \"\"\"A standard Encoder-Decoder architecture without attention.\n",
        "  \"\"\"\n",
        "  def __init__(self, encoder, decoder, src_embed, trg_embed, generator):\n",
        "    \"\"\"\n",
        "    Inputs:\n",
        "      - `encoder`: an `Encoder` object.\n",
        "      - `decoder`: a `Decoder` object.\n",
        "      - `src_embed`: an nn.Embedding object representing the lookup table for\n",
        "          input (source) sentences.\n",
        "      - `trg_embed`: an nn.Embedding object representing the lookup table for\n",
        "          output (target) sentences.\n",
        "      - `generator`: a `Generator` object. Essentially a linear mapping. See\n",
        "          the next code cell.\n",
        "    \"\"\"\n",
        "    super(EncoderDecoder, self).__init__()\n",
        "\n",
        "    self.encoder = encoder\n",
        "    self.decoder = decoder\n",
        "    self.src_embed = src_embed\n",
        "    self.trg_embed = trg_embed\n",
        "    self.generator = generator\n",
        "\n",
        "  def forward(self, src_ids, trg_ids, src_lengths):\n",
        "    \"\"\"Take in and process masked source and target sequences.\n",
        "\n",
        "    Inputs:\n",
        "      `src_ids`: a 2d-tensor of shape (batch_size, max_seq_length) representing\n",
        "        a batch of source sentences of word ids.\n",
        "      `trg_ids`: a 2d-tensor of shape (batch_size, max_seq_length) representing\n",
        "        a batch of target sentences of word ids.\n",
        "      `src_lengths`: a 1d-tensor of shape (batch_size,) representing the\n",
        "        sequence length of `src_ids`.\n",
        "\n",
        "    Returns the decoder outputs, see the above cell.\n",
        "    \"\"\"\n",
        "    encoder_hiddens, encoder_finals = self.encode(src_ids, src_lengths)\n",
        "    del encoder_hiddens   # unused\n",
        "    return self.decode(encoder_finals, trg_ids[:, :-1])\n",
        "\n",
        "  def encode(self, src_ids, src_lengths):\n",
        "    return self.encoder(self.src_embed(src_ids), src_lengths)\n",
        "    \n",
        "  def decode(self, encoder_finals, trg_ids, decoder_hidden=None):\n",
        "    return self.decoder(self.trg_embed(trg_ids), encoder_finals, decoder_hidden)"
      ],
      "execution_count": null,
      "outputs": []
    },
    {
      "cell_type": "markdown",
      "metadata": {
        "id": "wSwpEe1ORV4-"
      },
      "source": [
        "## Generator"
      ]
    },
    {
      "cell_type": "code",
      "metadata": {
        "id": "mx55R2LihLcp"
      },
      "source": [
        "class Generator(nn.Module):\n",
        "  \"\"\"Define standard linear + softmax generation step.\"\"\"\n",
        "  def __init__(self, hidden_size, vocab_size):\n",
        "    super(Generator, self).__init__()\n",
        "    self.proj = nn.Linear(hidden_size, vocab_size, bias=False)\n",
        "\n",
        "  def forward(self, x):\n",
        "    return F.log_softmax(self.proj(x), dim=-1)"
      ],
      "execution_count": null,
      "outputs": []
    },
    {
      "cell_type": "markdown",
      "metadata": {
        "id": "Kv_504_2RZF3"
      },
      "source": [
        "## Training loop"
      ]
    },
    {
      "cell_type": "code",
      "metadata": {
        "id": "vmTIw_g8TfW4",
        "colab": {
          "base_uri": "https://localhost:8080/"
        },
        "outputId": "140514b7-969e-48fd-d19f-a0084056759d"
      },
      "source": [
        "from torch.utils import data\n",
        "\n",
        "batch_size = 128\n",
        "\n",
        "# You can try on a smaller training set by setting a smaller `sampling`.\n",
        "train_set = MTDataset(train_src_sentences_list, src_vocab_set,\n",
        "                      train_trg_sentences_list, trg_vocab_set, sampling=1.)\n",
        "# print('TRAIN')\n",
        "# for i in range(len(train_set)):\n",
        "#   if len(train_set[i][0]) != 48 or len(train_set[i][2]) != 48:\n",
        "#     print(train_set[i])\n",
        "#     break\n",
        "# print(len(train_set))\n",
        "# print(train_set[0])\n",
        "# print(len(train_set[0][0])) # source\n",
        "# print(len(train_set[0][2])) # target\n",
        "# print(train_set[126])\n",
        "# print(len(train_set[126][0])) # source\n",
        "# print(len(train_set[126][2])) # target\n",
        "train_data_loader = data.DataLoader(train_set, batch_size=batch_size,\n",
        "                                    num_workers=8, shuffle=True)\n",
        "\n",
        "val_set = MTDataset(val_src_sentences_list, src_vocab_set,\n",
        "                    val_trg_sentences_list, trg_vocab_set, sampling=1.)\n",
        "# print('VAL')\n",
        "# for i in range(len(val_set)):\n",
        "#   if len(val_set[i][0]) != 48 or len(val_set[i][2]) != 48:\n",
        "#     print(val_set[i])\n",
        "#     break\n",
        "val_data_loader = data.DataLoader(val_set, batch_size=batch_size, num_workers=8,\n",
        "                                  shuffle=False)"
      ],
      "execution_count": null,
      "outputs": [
        {
          "output_type": "stream",
          "text": [
            "/usr/local/lib/python3.7/dist-packages/torch/utils/data/dataloader.py:477: UserWarning: This DataLoader will create 8 worker processes in total. Our suggested max number of worker in current system is 4, which is smaller than what this DataLoader is going to create. Please be aware that excessive worker creation might get DataLoader running slow or even freeze, lower the worker number to avoid potential slowness/freeze if necessary.\n",
            "  cpuset_checked))\n"
          ],
          "name": "stderr"
        }
      ]
    },
    {
      "cell_type": "code",
      "metadata": {
        "id": "_9-IjIoghKan"
      },
      "source": [
        "import math\n",
        "\n",
        "\n",
        "class SimpleLossCompute:\n",
        "  \"\"\"A simple loss compute and train function.\"\"\"\n",
        "\n",
        "  def __init__(self, generator, criterion, opt=None):\n",
        "    self.generator = generator\n",
        "    self.criterion = criterion\n",
        "    self.opt = opt\n",
        "\n",
        "  def __call__(self, x, y, norm):\n",
        "    x = self.generator(x)\n",
        "    loss = self.criterion(x.contiguous().view(-1, x.size(-1)),\n",
        "                          y.contiguous().view(-1))\n",
        "    loss = loss / norm\n",
        "\n",
        "    if self.opt is not None:  # training mode\n",
        "      loss.backward()          \n",
        "      self.opt.step()\n",
        "      self.opt.zero_grad()\n",
        "\n",
        "    return loss.data.item() * norm\n",
        "\n",
        "\n",
        "def run_epoch(data_loader, model, loss_compute, print_every):\n",
        "  \"\"\"Standard Training and Logging Function\"\"\"\n",
        "\n",
        "  total_tokens = 0\n",
        "  total_loss = 0\n",
        "\n",
        "  for i, (src_ids_BxT, src_lengths_B, trg_ids_BxL, trg_lengths_B) in enumerate(data_loader):\n",
        "    # We define some notations here to help you understand the loaded tensor\n",
        "    # shapes:\n",
        "    #   `B`: batch size\n",
        "    #   `T`: max sequence length of source sentences\n",
        "    #   `L`: max sequence length of target sentences; due to our preprocessing\n",
        "    #        in the beginning, `L` == `T` == 50\n",
        "    # An example of `src_ids_BxT` (when B = 2):\n",
        "    #   [[2, 4, 6, 7, ..., 4, 3, 0, 0, 0],\n",
        "    #    [2, 8, 6, 5, ..., 9, 5, 4, 3, 0]]\n",
        "    # The corresponding `src_lengths_B` would be [47, 49].\n",
        "    # Note that SOS_INDEX == 2, EOS_INDEX == 3, and PAD_INDEX = 0.\n",
        "\n",
        "    src_ids_BxT = src_ids_BxT.to(device)\n",
        "    src_lengths_B = src_lengths_B.to(device)\n",
        "    trg_ids_BxL = trg_ids_BxL.to(device)\n",
        "\n",
        "    del trg_lengths_B   # unused\n",
        "\n",
        "    _, output = model(src_ids_BxT, trg_ids_BxL, src_lengths_B)\n",
        "\n",
        "    loss = loss_compute(x=output, y=trg_ids_BxL[:, 1:],\n",
        "                        norm=src_ids_BxT.size(0))\n",
        "    total_loss += loss\n",
        "    total_tokens += (trg_ids_BxL[:, 1:] != PAD_INDEX).data.sum().item()\n",
        "\n",
        "    if model.training and i % print_every == 0:\n",
        "      print(\"Epoch Step: %d Loss: %f\" % (i, loss / src_ids_BxT.size(0)))\n",
        "\n",
        "  return math.exp(total_loss / float(total_tokens))\n",
        "\n",
        "\n",
        "def train(model, num_epochs, learning_rate, print_every):\n",
        "  # Set `ignore_index` as PAD_INDEX so that pad tokens won't be included when\n",
        "  # computing the loss.\n",
        "  criterion = nn.NLLLoss(reduction=\"sum\", ignore_index=PAD_INDEX)\n",
        "  optim = torch.optim.Adam(model.parameters(), lr=learning_rate)\n",
        "\n",
        "  # Keep track of dev ppl for each epoch.\n",
        "  dev_ppls = []\n",
        "\n",
        "  for epoch in range(num_epochs):\n",
        "    print(\"Epoch\", epoch)\n",
        "\n",
        "    model.train()\n",
        "    train_ppl = run_epoch(data_loader=train_data_loader, model=model,\n",
        "                          loss_compute=SimpleLossCompute(model.generator,\n",
        "                                                         criterion, optim),\n",
        "                          print_every=print_every)\n",
        "        \n",
        "    model.eval()\n",
        "    with torch.no_grad():      \n",
        "      dev_ppl = run_epoch(data_loader=val_data_loader, model=model,\n",
        "                          loss_compute=SimpleLossCompute(model.generator,\n",
        "                                                         criterion, None),\n",
        "                          print_every=print_every)\n",
        "      print(\"Validation perplexity: %f\" % dev_ppl)\n",
        "      dev_ppls.append(dev_ppl)\n",
        "        \n",
        "  return dev_ppls"
      ],
      "execution_count": null,
      "outputs": []
    },
    {
      "cell_type": "code",
      "metadata": {
        "id": "Zg0HolDAhKYJ",
        "colab": {
          "base_uri": "https://localhost:8080/",
          "height": 1000
        },
        "outputId": "8853c1fe-3d55-4ac0-9443-ef99e4e22ad6"
      },
      "source": [
        "device = 'cuda'\n",
        "\n",
        "# Hyperparameters for contructing the encoder-decoder model.\n",
        "embed_size = 256   # Each word will be represented as a `embed_size`-dim vector.\n",
        "hidden_size = 256  # RNN hidden size.\n",
        "dropout = 0.2\n",
        "\n",
        "pure_seq2seq = EncoderDecoder(\n",
        "    encoder=Encoder(embed_size, hidden_size, dropout=dropout),\n",
        "    decoder=Decoder(embed_size, hidden_size, dropout=dropout),\n",
        "    src_embed=nn.Embedding(len(src_vocab_set), embed_size),\n",
        "    trg_embed=nn.Embedding(len(trg_vocab_set), embed_size),\n",
        "    generator=Generator(hidden_size, len(trg_vocab_set))).to(device)\n",
        "\n",
        "train_model = True\n",
        "if train_model:\n",
        "  # Start training. The returned `dev_ppls` is a list of dev perplexity for each\n",
        "  # epoch.\n",
        "  pure_dev_ppls = train(pure_seq2seq, num_epochs=10, learning_rate=1e-3,\n",
        "                        print_every=100)\n",
        "  \n",
        "  torch.save(pure_seq2seq.state_dict(), MODEL_FOLDER+\"/\" + \"pure_seq2seq.pt\")\n",
        "\n",
        "  # Plot perplexity\n",
        "  lab_utils.plot_perplexity(pure_dev_ppls)\n",
        "else:\n",
        "  pure_seq2seq.load_state_dict(torch.load(MODEL_FOLDER+\"/\" + \"pure_seq2seq.pt\"))"
      ],
      "execution_count": null,
      "outputs": [
        {
          "output_type": "stream",
          "text": [
            "Epoch 0\n"
          ],
          "name": "stdout"
        },
        {
          "output_type": "stream",
          "text": [
            "/usr/local/lib/python3.7/dist-packages/torch/utils/data/dataloader.py:477: UserWarning: This DataLoader will create 8 worker processes in total. Our suggested max number of worker in current system is 4, which is smaller than what this DataLoader is going to create. Please be aware that excessive worker creation might get DataLoader running slow or even freeze, lower the worker number to avoid potential slowness/freeze if necessary.\n",
            "  cpuset_checked))\n"
          ],
          "name": "stderr"
        },
        {
          "output_type": "stream",
          "text": [
            "Epoch Step: 0 Loss: 117.883675\n",
            "Epoch Step: 100 Loss: 65.083038\n",
            "Epoch Step: 200 Loss: 64.198868\n",
            "Epoch Step: 300 Loss: 64.097275\n",
            "Epoch Step: 400 Loss: 56.428658\n",
            "Epoch Step: 500 Loss: 54.829350\n",
            "Epoch Step: 600 Loss: 54.169552\n",
            "Epoch Step: 700 Loss: 52.958080\n",
            "Epoch Step: 800 Loss: 50.300880\n",
            "Epoch Step: 900 Loss: 51.760853\n",
            "Validation perplexity: 67.449277\n",
            "Epoch 1\n",
            "Epoch Step: 0 Loss: 48.367493\n",
            "Epoch Step: 100 Loss: 49.633091\n",
            "Epoch Step: 200 Loss: 47.009251\n",
            "Epoch Step: 300 Loss: 42.468651\n",
            "Epoch Step: 400 Loss: 47.288044\n",
            "Epoch Step: 500 Loss: 45.578819\n",
            "Epoch Step: 600 Loss: 46.119358\n",
            "Epoch Step: 700 Loss: 46.286873\n",
            "Epoch Step: 800 Loss: 47.248459\n",
            "Epoch Step: 900 Loss: 48.795914\n",
            "Validation perplexity: 49.655947\n",
            "Epoch 2\n",
            "Epoch Step: 0 Loss: 45.269875\n",
            "Epoch Step: 100 Loss: 40.598915\n",
            "Epoch Step: 200 Loss: 40.558556\n",
            "Epoch Step: 300 Loss: 45.208336\n",
            "Epoch Step: 400 Loss: 44.029789\n",
            "Epoch Step: 500 Loss: 42.085899\n",
            "Epoch Step: 600 Loss: 43.947327\n",
            "Epoch Step: 700 Loss: 45.412441\n",
            "Epoch Step: 800 Loss: 44.456085\n",
            "Epoch Step: 900 Loss: 43.989864\n",
            "Validation perplexity: 45.200487\n",
            "Epoch 3\n",
            "Epoch Step: 0 Loss: 43.511395\n",
            "Epoch Step: 100 Loss: 40.861984\n",
            "Epoch Step: 200 Loss: 43.249241\n",
            "Epoch Step: 300 Loss: 41.316719\n",
            "Epoch Step: 400 Loss: 41.006306\n",
            "Epoch Step: 500 Loss: 43.022148\n",
            "Epoch Step: 600 Loss: 43.529873\n",
            "Epoch Step: 700 Loss: 41.109043\n",
            "Epoch Step: 800 Loss: 41.589813\n",
            "Epoch Step: 900 Loss: 44.410954\n",
            "Validation perplexity: 42.992829\n",
            "Epoch 4\n",
            "Epoch Step: 0 Loss: 38.060047\n",
            "Epoch Step: 100 Loss: 40.029613\n",
            "Epoch Step: 200 Loss: 43.028259\n",
            "Epoch Step: 300 Loss: 40.244190\n",
            "Epoch Step: 400 Loss: 38.645893\n",
            "Epoch Step: 500 Loss: 40.785000\n",
            "Epoch Step: 600 Loss: 43.680340\n",
            "Epoch Step: 700 Loss: 42.234344\n",
            "Epoch Step: 800 Loss: 40.845314\n",
            "Epoch Step: 900 Loss: 40.329250\n",
            "Validation perplexity: 41.959166\n",
            "Epoch 5\n",
            "Epoch Step: 0 Loss: 40.718529\n",
            "Epoch Step: 100 Loss: 40.095329\n",
            "Epoch Step: 200 Loss: 39.767952\n",
            "Epoch Step: 300 Loss: 37.950523\n",
            "Epoch Step: 400 Loss: 37.506279\n",
            "Epoch Step: 500 Loss: 40.374886\n",
            "Epoch Step: 600 Loss: 40.115547\n",
            "Epoch Step: 700 Loss: 44.211365\n",
            "Epoch Step: 800 Loss: 41.203590\n",
            "Epoch Step: 900 Loss: 38.056725\n",
            "Validation perplexity: 41.629558\n",
            "Epoch 6\n",
            "Epoch Step: 0 Loss: 38.505356\n",
            "Epoch Step: 100 Loss: 39.396542\n",
            "Epoch Step: 200 Loss: 41.662010\n",
            "Epoch Step: 300 Loss: 40.492104\n",
            "Epoch Step: 400 Loss: 40.014343\n",
            "Epoch Step: 500 Loss: 36.879696\n",
            "Epoch Step: 600 Loss: 41.005322\n",
            "Epoch Step: 700 Loss: 37.219582\n",
            "Epoch Step: 800 Loss: 41.644993\n",
            "Epoch Step: 900 Loss: 42.245872\n",
            "Validation perplexity: 41.737130\n",
            "Epoch 7\n",
            "Epoch Step: 0 Loss: 38.078468\n",
            "Epoch Step: 100 Loss: 39.687798\n",
            "Epoch Step: 200 Loss: 38.782043\n",
            "Epoch Step: 300 Loss: 36.913979\n",
            "Epoch Step: 400 Loss: 37.320805\n",
            "Epoch Step: 500 Loss: 42.257019\n",
            "Epoch Step: 600 Loss: 38.862431\n",
            "Epoch Step: 700 Loss: 37.172024\n",
            "Epoch Step: 800 Loss: 37.873959\n",
            "Epoch Step: 900 Loss: 37.831635\n",
            "Validation perplexity: 41.732650\n",
            "Epoch 8\n",
            "Epoch Step: 0 Loss: 36.718655\n",
            "Epoch Step: 100 Loss: 39.761055\n",
            "Epoch Step: 200 Loss: 39.396862\n",
            "Epoch Step: 300 Loss: 39.673096\n",
            "Epoch Step: 400 Loss: 40.855450\n",
            "Epoch Step: 500 Loss: 38.869495\n",
            "Epoch Step: 600 Loss: 37.961548\n",
            "Epoch Step: 700 Loss: 39.976295\n",
            "Epoch Step: 800 Loss: 39.849224\n",
            "Epoch Step: 900 Loss: 34.254387\n",
            "Validation perplexity: 42.311229\n",
            "Epoch 9\n",
            "Epoch Step: 0 Loss: 39.173183\n",
            "Epoch Step: 100 Loss: 38.279366\n",
            "Epoch Step: 200 Loss: 37.093765\n",
            "Epoch Step: 300 Loss: 36.696995\n",
            "Epoch Step: 400 Loss: 35.769764\n",
            "Epoch Step: 500 Loss: 37.855431\n",
            "Epoch Step: 600 Loss: 37.078270\n",
            "Epoch Step: 700 Loss: 40.617962\n",
            "Epoch Step: 800 Loss: 38.539471\n",
            "Epoch Step: 900 Loss: 37.734837\n",
            "Validation perplexity: 42.693599\n"
          ],
          "name": "stdout"
        },
        {
          "output_type": "display_data",
          "data": {
            "image/png": "[encoded data removed]",
            "text/plain": [
              "<Figure size 432x288 with 1 Axes>"
            ]
          },
          "metadata": {
            "tags": [],
            "needs_background": "light"
          }
        }
      ]
    },
    {
      "cell_type": "code",
      "metadata": {
        "id": "5-B83Wyihlor"
      },
      "source": [
        "def greedy_decode(model, src_ids, src_lengths, max_len):\n",
        "  \"\"\"Greedily decode a sentence for EncoderDecoder. Make sure to chop off the \n",
        "     EOS token!\"\"\"\n",
        "\n",
        "  with torch.no_grad():\n",
        "    _, encoder_finals = model.encode(src_ids, src_lengths)\n",
        "    prev_y = torch.ones(1, 1).fill_(SOS_INDEX).type_as(src_ids)\n",
        "\n",
        "  output = []\n",
        "  hidden = None\n",
        "  \n",
        "  # --------- Your code here --------- #\n",
        "\n",
        "  for i in range(max_len):\n",
        "      with torch.no_grad():\n",
        "          hidden, out = model.decode(encoder_finals, prev_y, hidden)\n",
        "          output.append(torch.argmax(model.generator(out)))\n",
        "          prev_y[0][0] = output[-1]\n",
        "\n",
        "          if output[-1] == EOS_INDEX:\n",
        "              output = output[:-1]\n",
        "              break\n",
        "\n",
        "  # --------- Your code ends --------- #\n",
        "\n",
        "  return output"
      ],
      "execution_count": null,
      "outputs": []
    },
    {
      "cell_type": "code",
      "metadata": {
        "id": "Q7IYcUjgdjeO",
        "colab": {
          "base_uri": "https://localhost:8080/"
        },
        "outputId": "b4d03aae-e055-4b30-8696-c61e9529592a"
      },
      "source": [
        "example_set = MTDataset(val_src_sentences_list, src_vocab_set,\n",
        "                        val_trg_sentences_list, trg_vocab_set)\n",
        "example_data_loader = data.DataLoader(example_set, batch_size=1, num_workers=1,\n",
        "                                      shuffle=False)\n",
        "\n",
        "\n",
        "print(\"EncoderDecoder Results:\")\n",
        "lab_utils.print_examples(pure_seq2seq, src_vocab_set, trg_vocab_set,\n",
        "                         example_data_loader, greedy_decode, n=10)"
      ],
      "execution_count": null,
      "outputs": [
        {
          "output_type": "stream",
          "text": [
            "EncoderDecoder Results:\n",
            "Example #1\n",
            "Src :  hi , how are you doing ? i'm getting ready to do some cheetah chasing to stay in shape . i am ! for my hobby i like to do canning or some whittling .\n",
            "Trg :  that's neat . when i was in high school i placed 6th in 100m dash !\n",
            "Pred:  i like to read and play with my dog .\n",
            "\n",
            "Example #2\n",
            "Src :  i am ! for my hobby i like to do canning or some whittling . that's neat . when i was in high school i placed 6th in 100m dash !\n",
            "Trg :  i do not . but i do have a favorite meat since that is all i eat exclusively .\n",
            "Pred:  i am a student . i am a receptionist .\n",
            "\n",
            "Example #3\n",
            "Src :  that's neat . when i was in high school i placed 6th in 100m dash ! i do not . but i do have a favorite meat since that is all i eat exclusively .\n",
            "Trg :  i would have to say its prime rib . do you have any favorite foods ?\n",
            "Pred:  i like to eat meat . i love to eat meat .\n",
            "\n",
            "Example #4\n",
            "Src :  i do not . but i do have a favorite meat since that is all i eat exclusively . i would have to say its prime rib . do you have any favorite foods ?\n",
            "Trg :  do you have anything planned for today ? i think i am going to do some canning .\n",
            "Pred:  i like to eat meat . i love to eat meat .\n",
            "\n",
            "Example #5\n",
            "Src :  i would have to say its prime rib . do you have any favorite foods ? do you have anything planned for today ? i think i am going to do some canning .\n",
            "Trg :  i think i will can some jam . do you also play footfall for fun ?\n",
            "Pred:  i like to go to the beach . i love to go to the beach .\n",
            "\n",
            "Example #6\n",
            "Src :  do you have anything planned for today ? i think i am going to do some canning . i think i will can some jam . do you also play footfall for fun ?\n",
            "Trg :  hi , how are you doing today ?\n",
            "Pred:  i like to eat meat . i love to eat meat .\n",
            "\n",
            "Example #7\n",
            "Src :  i think i will can some jam . do you also play footfall for fun ? hi , how are you doing today ?\n",
            "Trg :  wow , four sisters . just watching game of thrones .\n",
            "Pred:  i am doing well . i am just getting ready to go to work .\n",
            "\n",
            "Example #8\n",
            "Src :  hi , how are you doing today ? wow , four sisters . just watching game of thrones .\n",
            "Trg :  i agree . what do you do for a living ?\n",
            "Pred:  i am a dancer , i love to read .\n",
            "\n",
            "Example #9\n",
            "Src :  wow , four sisters . just watching game of thrones . i agree . what do you do for a living ?\n",
            "Trg :  interesting . i'm a website designer . pretty much spend all my time on the computer .\n",
            "Pred:  i like to read . i am a waitress .\n",
            "\n",
            "Example #10\n",
            "Src :  i agree . what do you do for a living ? interesting . i'm a website designer . pretty much spend all my time on the computer .\n",
            "Trg :  that's awesome . i have always had a love for technology .\n",
            "Pred:  i am a teacher . i am a mom . i am a mom .\n",
            "\n"
          ],
          "name": "stdout"
        }
      ]
    },
    {
      "cell_type": "markdown",
      "metadata": {
        "id": "WXaBISR_riud"
      },
      "source": [
        "# ATTENTION"
      ]
    },
    {
      "cell_type": "code",
      "metadata": {
        "id": "Vyn4R5Kprm6y"
      },
      "source": [
        ""
      ],
      "execution_count": null,
      "outputs": []
    }
  ]
}